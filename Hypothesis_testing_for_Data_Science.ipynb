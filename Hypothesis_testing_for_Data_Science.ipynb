{
 "cells": [
  {
   "cell_type": "markdown",
   "id": "6e44c170-0144-446e-ac5b-dcb40a0f7dda",
   "metadata": {},
   "source": [
    "# **Hypthesis testing for Data Science**\n",
    "## In this notebook, I have covered topics for hypothesis testing in data science.\n",
    "### **1. Chi Square Testing**\n",
    "### **2. Z-test**\n",
    "### **3. T-test**\n",
    "### **4. ANOVA**\n",
    "### **5. A/B Testing**\n",
    "### **6. Errors in Hypothesis Testing**\n",
    "### **7. References**"
   ]
  },
  {
   "cell_type": "markdown",
   "id": "9362f1fb-f7df-40bb-ae8b-92756acb4e8f",
   "metadata": {},
   "source": [
    "# Chi Square Testing"
   ]
  },
  {
   "cell_type": "code",
   "execution_count": 1,
   "id": "b7135458-eee3-43e5-86d0-79b91bbd973a",
   "metadata": {},
   "outputs": [],
   "source": [
    "import numpy as np\n",
    "import pandas as pd"
   ]
  },
  {
   "cell_type": "code",
   "execution_count": 2,
   "id": "12d82702-93b1-412f-9b1a-b1bb001876c6",
   "metadata": {},
   "outputs": [],
   "source": [
    "genders = ['Male', 'Female']\n",
    "occupations = ['Data Scientist', 'Web Developer', 'Cloud Engineer', 'Web Services Specialist', 'Full Stack Engineer', 'Software Engineer']\n",
    "organizations = [\"Google\",\"Mocrosoft\",\"Amazon\",\"Facebook\",\"Adobe\",\"Netflix\",\"Nvidia\",\"Apple\"]"
   ]
  },
  {
   "cell_type": "code",
   "execution_count": 3,
   "id": "8a7e9ed6-01ac-4171-b281-d4894a52c000",
   "metadata": {},
   "outputs": [
    {
     "data": {
      "text/plain": [
       "{'Gender': array(['Male', 'Female', 'Male', ..., 'Female', 'Female', 'Male'],\n",
       "       dtype='<U6'),\n",
       " 'Occupation': array(['Cloud Engineer', 'Cloud Engineer', 'Software Engineer', ...,\n",
       "        'Web Developer', 'Data Scientist', 'Full Stack Engineer'],\n",
       "       dtype='<U23'),\n",
       " 'Organization': array(['Apple', 'Adobe', 'Facebook', ..., 'Google', 'Mocrosoft',\n",
       "        'Mocrosoft'], dtype='<U9')}"
      ]
     },
     "execution_count": 3,
     "metadata": {},
     "output_type": "execute_result"
    }
   ],
   "source": [
    "np.random.seed(42)\n",
    "data = { \"Gender\" : np.random.choice(genders,size=10000),\n",
    "        \"Occupation\" : np.random.choice(occupations,size=10000),\n",
    "       \"Organization\" : np.random.choice(organizations,size=10000)}\n",
    "\n",
    "data"
   ]
  },
  {
   "cell_type": "code",
   "execution_count": 4,
   "id": "76ccc226-e6b9-40ee-aea7-93f424101b80",
   "metadata": {},
   "outputs": [],
   "source": [
    "data = pd.DataFrame(data)"
   ]
  },
  {
   "cell_type": "code",
   "execution_count": 5,
   "id": "68a74624-dfd0-47dc-8b19-9cce477b3eec",
   "metadata": {},
   "outputs": [
    {
     "data": {
      "text/html": [
       "<div>\n",
       "<style scoped>\n",
       "    .dataframe tbody tr th:only-of-type {\n",
       "        vertical-align: middle;\n",
       "    }\n",
       "\n",
       "    .dataframe tbody tr th {\n",
       "        vertical-align: top;\n",
       "    }\n",
       "\n",
       "    .dataframe thead th {\n",
       "        text-align: right;\n",
       "    }\n",
       "</style>\n",
       "<table border=\"1\" class=\"dataframe\">\n",
       "  <thead>\n",
       "    <tr style=\"text-align: right;\">\n",
       "      <th></th>\n",
       "      <th>Gender</th>\n",
       "      <th>Occupation</th>\n",
       "      <th>Organization</th>\n",
       "    </tr>\n",
       "  </thead>\n",
       "  <tbody>\n",
       "    <tr>\n",
       "      <th>0</th>\n",
       "      <td>Male</td>\n",
       "      <td>Cloud Engineer</td>\n",
       "      <td>Apple</td>\n",
       "    </tr>\n",
       "    <tr>\n",
       "      <th>1</th>\n",
       "      <td>Female</td>\n",
       "      <td>Cloud Engineer</td>\n",
       "      <td>Adobe</td>\n",
       "    </tr>\n",
       "    <tr>\n",
       "      <th>2</th>\n",
       "      <td>Male</td>\n",
       "      <td>Software Engineer</td>\n",
       "      <td>Facebook</td>\n",
       "    </tr>\n",
       "    <tr>\n",
       "      <th>3</th>\n",
       "      <td>Male</td>\n",
       "      <td>Web Services Specialist</td>\n",
       "      <td>Apple</td>\n",
       "    </tr>\n",
       "    <tr>\n",
       "      <th>4</th>\n",
       "      <td>Male</td>\n",
       "      <td>Cloud Engineer</td>\n",
       "      <td>Mocrosoft</td>\n",
       "    </tr>\n",
       "    <tr>\n",
       "      <th>...</th>\n",
       "      <td>...</td>\n",
       "      <td>...</td>\n",
       "      <td>...</td>\n",
       "    </tr>\n",
       "    <tr>\n",
       "      <th>9995</th>\n",
       "      <td>Female</td>\n",
       "      <td>Software Engineer</td>\n",
       "      <td>Netflix</td>\n",
       "    </tr>\n",
       "    <tr>\n",
       "      <th>9996</th>\n",
       "      <td>Male</td>\n",
       "      <td>Web Services Specialist</td>\n",
       "      <td>Apple</td>\n",
       "    </tr>\n",
       "    <tr>\n",
       "      <th>9997</th>\n",
       "      <td>Female</td>\n",
       "      <td>Web Developer</td>\n",
       "      <td>Google</td>\n",
       "    </tr>\n",
       "    <tr>\n",
       "      <th>9998</th>\n",
       "      <td>Female</td>\n",
       "      <td>Data Scientist</td>\n",
       "      <td>Mocrosoft</td>\n",
       "    </tr>\n",
       "    <tr>\n",
       "      <th>9999</th>\n",
       "      <td>Male</td>\n",
       "      <td>Full Stack Engineer</td>\n",
       "      <td>Mocrosoft</td>\n",
       "    </tr>\n",
       "  </tbody>\n",
       "</table>\n",
       "<p>10000 rows × 3 columns</p>\n",
       "</div>"
      ],
      "text/plain": [
       "      Gender               Occupation Organization\n",
       "0       Male           Cloud Engineer        Apple\n",
       "1     Female           Cloud Engineer        Adobe\n",
       "2       Male        Software Engineer     Facebook\n",
       "3       Male  Web Services Specialist        Apple\n",
       "4       Male           Cloud Engineer    Mocrosoft\n",
       "...      ...                      ...          ...\n",
       "9995  Female        Software Engineer      Netflix\n",
       "9996    Male  Web Services Specialist        Apple\n",
       "9997  Female            Web Developer       Google\n",
       "9998  Female           Data Scientist    Mocrosoft\n",
       "9999    Male      Full Stack Engineer    Mocrosoft\n",
       "\n",
       "[10000 rows x 3 columns]"
      ]
     },
     "execution_count": 5,
     "metadata": {},
     "output_type": "execute_result"
    }
   ],
   "source": [
    "data"
   ]
  },
  {
   "cell_type": "code",
   "execution_count": 6,
   "id": "0712e682-ce80-4771-8267-978d7e1aa94b",
   "metadata": {},
   "outputs": [
    {
     "data": {
      "text/html": [
       "<div>\n",
       "<style scoped>\n",
       "    .dataframe tbody tr th:only-of-type {\n",
       "        vertical-align: middle;\n",
       "    }\n",
       "\n",
       "    .dataframe tbody tr th {\n",
       "        vertical-align: top;\n",
       "    }\n",
       "\n",
       "    .dataframe thead th {\n",
       "        text-align: right;\n",
       "    }\n",
       "</style>\n",
       "<table border=\"1\" class=\"dataframe\">\n",
       "  <thead>\n",
       "    <tr style=\"text-align: right;\">\n",
       "      <th></th>\n",
       "      <th>Organization</th>\n",
       "      <th>Adobe</th>\n",
       "      <th>Amazon</th>\n",
       "      <th>Apple</th>\n",
       "      <th>Facebook</th>\n",
       "      <th>Google</th>\n",
       "      <th>Mocrosoft</th>\n",
       "      <th>Netflix</th>\n",
       "      <th>Nvidia</th>\n",
       "    </tr>\n",
       "    <tr>\n",
       "      <th>Gender</th>\n",
       "      <th>Occupation</th>\n",
       "      <th></th>\n",
       "      <th></th>\n",
       "      <th></th>\n",
       "      <th></th>\n",
       "      <th></th>\n",
       "      <th></th>\n",
       "      <th></th>\n",
       "      <th></th>\n",
       "    </tr>\n",
       "  </thead>\n",
       "  <tbody>\n",
       "    <tr>\n",
       "      <th rowspan=\"6\" valign=\"top\">Female</th>\n",
       "      <th>Cloud Engineer</th>\n",
       "      <td>96</td>\n",
       "      <td>87</td>\n",
       "      <td>103</td>\n",
       "      <td>99</td>\n",
       "      <td>105</td>\n",
       "      <td>104</td>\n",
       "      <td>93</td>\n",
       "      <td>97</td>\n",
       "    </tr>\n",
       "    <tr>\n",
       "      <th>Data Scientist</th>\n",
       "      <td>113</td>\n",
       "      <td>92</td>\n",
       "      <td>103</td>\n",
       "      <td>77</td>\n",
       "      <td>107</td>\n",
       "      <td>112</td>\n",
       "      <td>119</td>\n",
       "      <td>105</td>\n",
       "    </tr>\n",
       "    <tr>\n",
       "      <th>Full Stack Engineer</th>\n",
       "      <td>93</td>\n",
       "      <td>116</td>\n",
       "      <td>83</td>\n",
       "      <td>118</td>\n",
       "      <td>113</td>\n",
       "      <td>108</td>\n",
       "      <td>117</td>\n",
       "      <td>104</td>\n",
       "    </tr>\n",
       "    <tr>\n",
       "      <th>Software Engineer</th>\n",
       "      <td>105</td>\n",
       "      <td>106</td>\n",
       "      <td>117</td>\n",
       "      <td>80</td>\n",
       "      <td>111</td>\n",
       "      <td>113</td>\n",
       "      <td>82</td>\n",
       "      <td>116</td>\n",
       "    </tr>\n",
       "    <tr>\n",
       "      <th>Web Developer</th>\n",
       "      <td>104</td>\n",
       "      <td>106</td>\n",
       "      <td>105</td>\n",
       "      <td>115</td>\n",
       "      <td>117</td>\n",
       "      <td>109</td>\n",
       "      <td>108</td>\n",
       "      <td>111</td>\n",
       "    </tr>\n",
       "    <tr>\n",
       "      <th>Web Services Specialist</th>\n",
       "      <td>94</td>\n",
       "      <td>99</td>\n",
       "      <td>117</td>\n",
       "      <td>109</td>\n",
       "      <td>86</td>\n",
       "      <td>103</td>\n",
       "      <td>105</td>\n",
       "      <td>105</td>\n",
       "    </tr>\n",
       "    <tr>\n",
       "      <th rowspan=\"6\" valign=\"top\">Male</th>\n",
       "      <th>Cloud Engineer</th>\n",
       "      <td>94</td>\n",
       "      <td>104</td>\n",
       "      <td>95</td>\n",
       "      <td>89</td>\n",
       "      <td>104</td>\n",
       "      <td>111</td>\n",
       "      <td>111</td>\n",
       "      <td>101</td>\n",
       "    </tr>\n",
       "    <tr>\n",
       "      <th>Data Scientist</th>\n",
       "      <td>113</td>\n",
       "      <td>82</td>\n",
       "      <td>102</td>\n",
       "      <td>114</td>\n",
       "      <td>102</td>\n",
       "      <td>97</td>\n",
       "      <td>118</td>\n",
       "      <td>109</td>\n",
       "    </tr>\n",
       "    <tr>\n",
       "      <th>Full Stack Engineer</th>\n",
       "      <td>104</td>\n",
       "      <td>115</td>\n",
       "      <td>123</td>\n",
       "      <td>87</td>\n",
       "      <td>97</td>\n",
       "      <td>113</td>\n",
       "      <td>95</td>\n",
       "      <td>119</td>\n",
       "    </tr>\n",
       "    <tr>\n",
       "      <th>Software Engineer</th>\n",
       "      <td>97</td>\n",
       "      <td>96</td>\n",
       "      <td>100</td>\n",
       "      <td>118</td>\n",
       "      <td>96</td>\n",
       "      <td>96</td>\n",
       "      <td>107</td>\n",
       "      <td>90</td>\n",
       "    </tr>\n",
       "    <tr>\n",
       "      <th>Web Developer</th>\n",
       "      <td>101</td>\n",
       "      <td>100</td>\n",
       "      <td>109</td>\n",
       "      <td>93</td>\n",
       "      <td>114</td>\n",
       "      <td>119</td>\n",
       "      <td>103</td>\n",
       "      <td>124</td>\n",
       "    </tr>\n",
       "    <tr>\n",
       "      <th>Web Services Specialist</th>\n",
       "      <td>95</td>\n",
       "      <td>105</td>\n",
       "      <td>113</td>\n",
       "      <td>113</td>\n",
       "      <td>121</td>\n",
       "      <td>101</td>\n",
       "      <td>97</td>\n",
       "      <td>106</td>\n",
       "    </tr>\n",
       "  </tbody>\n",
       "</table>\n",
       "</div>"
      ],
      "text/plain": [
       "Organization                    Adobe  Amazon  Apple  Facebook  Google  \\\n",
       "Gender Occupation                                                        \n",
       "Female Cloud Engineer              96      87    103        99     105   \n",
       "       Data Scientist             113      92    103        77     107   \n",
       "       Full Stack Engineer         93     116     83       118     113   \n",
       "       Software Engineer          105     106    117        80     111   \n",
       "       Web Developer              104     106    105       115     117   \n",
       "       Web Services Specialist     94      99    117       109      86   \n",
       "Male   Cloud Engineer              94     104     95        89     104   \n",
       "       Data Scientist             113      82    102       114     102   \n",
       "       Full Stack Engineer        104     115    123        87      97   \n",
       "       Software Engineer           97      96    100       118      96   \n",
       "       Web Developer              101     100    109        93     114   \n",
       "       Web Services Specialist     95     105    113       113     121   \n",
       "\n",
       "Organization                    Mocrosoft  Netflix  Nvidia  \n",
       "Gender Occupation                                           \n",
       "Female Cloud Engineer                 104       93      97  \n",
       "       Data Scientist                 112      119     105  \n",
       "       Full Stack Engineer            108      117     104  \n",
       "       Software Engineer              113       82     116  \n",
       "       Web Developer                  109      108     111  \n",
       "       Web Services Specialist        103      105     105  \n",
       "Male   Cloud Engineer                 111      111     101  \n",
       "       Data Scientist                  97      118     109  \n",
       "       Full Stack Engineer            113       95     119  \n",
       "       Software Engineer               96      107      90  \n",
       "       Web Developer                  119      103     124  \n",
       "       Web Services Specialist        101       97     106  "
      ]
     },
     "execution_count": 6,
     "metadata": {},
     "output_type": "execute_result"
    }
   ],
   "source": [
    "crosstab = pd.crosstab([data['Gender'], data['Occupation']], data['Organization'])\n",
    "crosstab"
   ]
  },
  {
   "cell_type": "code",
   "execution_count": 7,
   "id": "d76e2b70-cd71-4af7-8b46-8d9f5816b94e",
   "metadata": {},
   "outputs": [
    {
     "data": {
      "text/html": [
       "<div>\n",
       "<style scoped>\n",
       "    .dataframe tbody tr th:only-of-type {\n",
       "        vertical-align: middle;\n",
       "    }\n",
       "\n",
       "    .dataframe tbody tr th {\n",
       "        vertical-align: top;\n",
       "    }\n",
       "\n",
       "    .dataframe thead th {\n",
       "        text-align: right;\n",
       "    }\n",
       "</style>\n",
       "<table border=\"1\" class=\"dataframe\">\n",
       "  <thead>\n",
       "    <tr style=\"text-align: right;\">\n",
       "      <th></th>\n",
       "      <th>Gender</th>\n",
       "      <th>Occupation</th>\n",
       "      <th>Organization</th>\n",
       "    </tr>\n",
       "  </thead>\n",
       "  <tbody>\n",
       "    <tr>\n",
       "      <th>count</th>\n",
       "      <td>10000</td>\n",
       "      <td>10000</td>\n",
       "      <td>10000</td>\n",
       "    </tr>\n",
       "    <tr>\n",
       "      <th>unique</th>\n",
       "      <td>2</td>\n",
       "      <td>6</td>\n",
       "      <td>8</td>\n",
       "    </tr>\n",
       "    <tr>\n",
       "      <th>top</th>\n",
       "      <td>Male</td>\n",
       "      <td>Web Developer</td>\n",
       "      <td>Nvidia</td>\n",
       "    </tr>\n",
       "    <tr>\n",
       "      <th>freq</th>\n",
       "      <td>5013</td>\n",
       "      <td>1738</td>\n",
       "      <td>1287</td>\n",
       "    </tr>\n",
       "  </tbody>\n",
       "</table>\n",
       "</div>"
      ],
      "text/plain": [
       "       Gender     Occupation Organization\n",
       "count   10000          10000        10000\n",
       "unique      2              6            8\n",
       "top      Male  Web Developer       Nvidia\n",
       "freq     5013           1738         1287"
      ]
     },
     "execution_count": 7,
     "metadata": {},
     "output_type": "execute_result"
    }
   ],
   "source": [
    "data.describe()"
   ]
  },
  {
   "cell_type": "code",
   "execution_count": 8,
   "id": "2afd3417-e440-47b5-b01d-6123e34ab09e",
   "metadata": {},
   "outputs": [],
   "source": [
    "from scipy.stats import chi2_contingency"
   ]
  },
  {
   "cell_type": "code",
   "execution_count": 9,
   "id": "3a03bbde-c514-4441-b697-48e0f9829171",
   "metadata": {},
   "outputs": [
    {
     "name": "stdout",
     "output_type": "stream",
     "text": [
      "the chi square value is: 82.92755957391171\n",
      "the p value is: 0.30176146267556553\n",
      "the degree of freedom is: 77\n",
      "the expected value: [[ 94.7856  94.7072  99.568   95.0208  99.8032 100.8224  98.392  100.9008]\n",
      " [100.1052 100.0224 105.156  100.3536 105.4044 106.4808 103.914  106.5636]\n",
      " [103.0068 102.9216 108.204  103.2624 108.4596 109.5672 106.926  109.6524]\n",
      " [100.347  100.264  105.41   100.596  105.659  106.738  104.165  106.821 ]\n",
      " [105.7875 105.7    111.125  106.05   111.3875 112.525  109.8125 112.6125]\n",
      " [ 98.8962  98.8144 103.886   99.1416 104.1314 105.1948 102.659  105.2766]\n",
      " [ 97.8081  97.7272 102.743   98.0508 102.9857 104.0374 101.5295 104.1183]\n",
      " [101.1933 101.1096 106.299  101.4444 106.5501 107.6382 105.0435 107.7219]\n",
      " [103.1277 103.0424 108.331  103.3836 108.5869 109.6958 107.0515 109.7811]\n",
      " [ 96.72    96.64   101.6     96.96   101.84   102.88   100.4    102.96  ]\n",
      " [104.3367 104.2504 109.601  104.5956 109.8599 110.9818 108.3065 111.0681]\n",
      " [102.8859 102.8008 108.077  103.1412 108.3323 109.4386 106.8005 109.5237]]\n",
      "There is no  strong evidence and significant relationship between the gender and their occupation. we can accept our null hypothesis(Ho)\n"
     ]
    }
   ],
   "source": [
    "Ho=\"there is no significant relationship between the attributes\"\n",
    "Ha=\"the is a significant relationship between the attributes\"\n",
    "chi2, p, dof, expected = chi2_contingency(crosstab)\n",
    "print(f\"the chi square value is: {chi2}\")\n",
    "print(f\"the p value is: {p}\")\n",
    "print(f\"the degree of freedom is: {dof}\")\n",
    "print(f\"the expected value: {expected}\")\n",
    "alpha = 0.05\n",
    "if p < 0.05 : \n",
    "    print(\"There is  strong evidence and significant relationship between the gender and their occupation. we can reject our null hypothesis(Ho)\")\n",
    "elif p > 0.05:\n",
    "    print(\"There is no  strong evidence and significant relationship between the gender and their occupation. we can accept our null hypothesis(Ho)\")"
   ]
  },
  {
   "cell_type": "markdown",
   "id": "0a5d5b78-a777-4314-964f-29c3ede90c8b",
   "metadata": {},
   "source": [
    "### For further references.look at the below image\n",
    "https://www.bing.com/images/search?view=detailV2&ccid=oQb3xpss&id=43D07B64351F36113790CED0125A46F1FF182601&thid=OIP.oQb3xpssKu7Mb4thd66zKAHaGq&mediaurl=https%3A%2F%2Fmicrobenotes.com%2Fwp-content%2Fuploads%2F2021%2F01%2Fp-value-table-from-chi-square-values.png&exph=723&expw=804&q=Chi-Square+P-Value+Chart&simid=607991675825362004&FORM=IRPRST&ck=5D53A4227FF4FA649EB0AA6F17696BEE&selectedIndex=0&itb=0&cw=1375&ch=707&ajaxhist=0&ajaxserp=0"
   ]
  },
  {
   "cell_type": "code",
   "execution_count": 10,
   "id": "2d70a80c-c399-46f7-85f7-42ed378761b1",
   "metadata": {},
   "outputs": [
    {
     "data": {
      "text/plain": [
       "Organization\n",
       "Adobe        0.098989\n",
       "Amazon       0.099030\n",
       "Apple        0.096583\n",
       "Facebook     0.098866\n",
       "Google       0.096469\n",
       "Mocrosoft    0.095980\n",
       "Netflix      0.097158\n",
       "Nvidia       0.095943\n",
       "dtype: float64"
      ]
     },
     "execution_count": 10,
     "metadata": {},
     "output_type": "execute_result"
    }
   ],
   "source": [
    "n=crosstab.sum()\n",
    "r,k =crosstab.shape\n",
    "cramers_v = np.sqrt(chi2/(n*(min(k-1,r-1))))\n",
    "cramers_v"
   ]
  },
  {
   "cell_type": "code",
   "execution_count": 11,
   "id": "cfd3f885-7acf-4b0b-90df-5ea29bf372bb",
   "metadata": {},
   "outputs": [
    {
     "data": {
      "text/plain": [
       "0.03441917230969468"
      ]
     },
     "execution_count": 11,
     "metadata": {},
     "output_type": "execute_result"
    }
   ],
   "source": [
    "n=crosstab.sum().sum()\n",
    "r,k =crosstab.shape\n",
    "cramers_v = np.sqrt(chi2/(n*(min(k-1,r-1))))\n",
    "cramers_v"
   ]
  },
  {
   "cell_type": "markdown",
   "id": "ad79a4d4-f001-4b00-9921-03b338e0ff88",
   "metadata": {},
   "source": [
    "# Z-Test"
   ]
  },
  {
   "cell_type": "markdown",
   "id": "a74d7cbc-8e6c-403e-9a77-20ca7b9b7385",
   "metadata": {},
   "source": [
    "## 1. Z-Test is appropriate when the sample size is generally large.(i.e n>30)\n",
    "## 2. The data follows the normal Distribution.\n",
    "## 3. The population variance is known.\n",
    "## Q). suppose a factory produces light bulbs with an average lifespan of 1000 hours and a known standard deviation of 50 hours.to test a new manufacturing process, you take a sample of 40 light bulbs,finding an average lifespan of 1015 hours.you want to know if this increase is statistically significant."
   ]
  },
  {
   "cell_type": "markdown",
   "id": "34aebe8f-2eb4-4390-9b82-3c1407ed0d7f",
   "metadata": {},
   "source": [
    "## 1. Null Hypothesis(Ho): The average lifespan eith the new process is 1000 Hours and there is no change or improvement with the new process.\n",
    "## 2. Alternative Hypothesis(H1): The average life span is greater than 1000 Hours and there is change or improvement in the new manufacturing process."
   ]
  },
  {
   "cell_type": "code",
   "execution_count": 12,
   "id": "cc1b8545-58d6-47df-a96f-7206a98bfe99",
   "metadata": {},
   "outputs": [
    {
     "data": {
      "text/plain": [
       "1.8973665961010275"
      ]
     },
     "execution_count": 12,
     "metadata": {},
     "output_type": "execute_result"
    }
   ],
   "source": [
    "import math\n",
    "sample_mean=1015\n",
    "sample_size=40\n",
    "population_mean=1000\n",
    "population_std=50\n",
    "z_score = (sample_mean - population_mean)/(population_std/math.sqrt(sample_size))\n",
    "z_score"
   ]
  },
  {
   "cell_type": "code",
   "execution_count": 13,
   "id": "104a4f8d-b083-4fb1-9786-3d3232353aa1",
   "metadata": {},
   "outputs": [
    {
     "name": "stdout",
     "output_type": "stream",
     "text": [
      "The p-value is: 0.028889785561798664\n",
      "We can reject the null hypothesis\n",
      "i.e 0.0289 < 0.05 \n",
      "There is significant improvememt in our new manufacturing process!\n"
     ]
    }
   ],
   "source": [
    "from scipy.stats import norm\n",
    "p_value = 1 - norm.cdf(z_score)\n",
    "aplha = 0.05\n",
    "print(f\"The p-value is: {p_value}\")\n",
    "if p_value<0.05:\n",
    "    print(\"We can reject the null hypothesis\")\n",
    "    print(f\"i.e {round(p_value,4)} < {alpha} \") \n",
    "    print(\"There is significant improvememt in our new manufacturing process!\")\n",
    "else:\n",
    "    print(f\"i.e {round(p_value,4)} >= {aplha} \")\n",
    "    print(\"we can reject the alternative hypothesis.i.e accept the null hypothesis\")\n",
    "    print(\"there is no significant improvement in our new manufacturing process!\")"
   ]
  },
  {
   "cell_type": "markdown",
   "id": "39bdf2a7-0b6f-4ec6-b8cc-335b1c0fac88",
   "metadata": {},
   "source": [
    "# T-Test\n",
    "## 1. T-test is used when we dont know the population standard mean.\n",
    "## 2. When sample size is small.(usually n<30).\n",
    "## There are three kind of T-tests. They are:\n",
    "### 1. One sample T-test\n",
    "### 2. Independent two sample T-test\n",
    "### 3. paired T-test"
   ]
  },
  {
   "cell_type": "markdown",
   "id": "fe02bd85-bb9b-4532-ada6-1ef27d0000de",
   "metadata": {},
   "source": [
    "## One sample T-test\n",
    "### **Example:** \n",
    "### 1. let students score an average of 75 for a test.\n",
    "### 2. Now, a sample of same 15 students taken who took new teaching method with average 78.\n",
    "### 3.we need to now if new teaching method \"difference is significant\" or likely just due to chance.\n"
   ]
  },
  {
   "cell_type": "code",
   "execution_count": 14,
   "id": "5d5c9480-1a9f-49fb-90ea-a76a21d37b17",
   "metadata": {},
   "outputs": [],
   "source": [
    "new_sample_scores = [72,74,78,76,80,79,82,77,75,76,73,74,78,77,79]\n"
   ]
  },
  {
   "cell_type": "markdown",
   "id": "2dd7c493-8c40-4aba-ac37-bbea1583c044",
   "metadata": {},
   "source": [
    "#### **Null Hypothesis(H0)**: The new teaching method is not significantly different from the old(i.e has no effect).So the mean score is likely by a chance.\n",
    "#### **Alternative Hypothesis(H1)**: The new teaching methds is significantly different from the old.(i.e there is effect). So, the mean score is different.\n",
    "#### **Note**: In a one-sample t-test, when we don’t have the population standard deviation, we use the sample's standard deviation as an estimate of variability. The sample standard deviation helps us understand the spread of the scores around the sample mean.\n",
    "#### ddof=1 applies Bessel's correction to ensure we get an unbiased estimate of the population standard deviation (as we’re estimating from a sample). "
   ]
  },
  {
   "cell_type": "code",
   "execution_count": 15,
   "id": "5377a20b-a200-468e-a51f-09367b5d747c",
   "metadata": {},
   "outputs": [],
   "source": [
    "population_mean=75\n",
    "sample_mean=77\n",
    "sample_standard_deviation = np.std(new_sample_scores,ddof=1)\n",
    "sample_size=len(new_sample_scores)"
   ]
  },
  {
   "cell_type": "code",
   "execution_count": 16,
   "id": "146a4522-bd02-4908-a67b-0c6d2f2577f9",
   "metadata": {},
   "outputs": [
    {
     "data": {
      "text/plain": [
       "2.768874620972692"
      ]
     },
     "execution_count": 16,
     "metadata": {},
     "output_type": "execute_result"
    }
   ],
   "source": [
    "sample_standard_deviation"
   ]
  },
  {
   "cell_type": "code",
   "execution_count": 17,
   "id": "450ec742-6239-485e-bfa8-dbe3cd7eb250",
   "metadata": {},
   "outputs": [],
   "source": [
    "import math\n",
    "t_statistic=(sample_mean-population_mean)/(sample_standard_deviation/math.sqrt(sample_size))"
   ]
  },
  {
   "cell_type": "code",
   "execution_count": 18,
   "id": "26198293-0f7c-43ee-8002-954a7c856378",
   "metadata": {},
   "outputs": [
    {
     "data": {
      "text/plain": [
       "2.7975144247209407"
      ]
     },
     "execution_count": 18,
     "metadata": {},
     "output_type": "execute_result"
    }
   ],
   "source": [
    "t_statistic"
   ]
  },
  {
   "cell_type": "markdown",
   "id": "eb672863-6ba0-4f96-a742-74c75fb2dade",
   "metadata": {},
   "source": [
    "#### Now , compare the \"t_test\" value with \"critical t value\".\n",
    "#### **Decision making:**\n",
    "#### 1. if t_statistic > critical_t, reject the null hypothesis.i.e New teching methodhas a significant effect on students.\n",
    "#### 2. if t_statistic < critical_t,we have no evidence to say a new teaching made a significant difference."
   ]
  },
  {
   "cell_type": "code",
   "execution_count": 19,
   "id": "a9eeb0ed-3560-442e-99b5-abce54534dce",
   "metadata": {},
   "outputs": [
    {
     "name": "stdout",
     "output_type": "stream",
     "text": [
      "the t critical value is: 2.1447866879169273\n",
      "2.7975 > 2.1448, we reject the null hypothesis.i.e New teching methodhas a significant effect on students.\n"
     ]
    }
   ],
   "source": [
    "#calculate ctical t_value.\n",
    "from scipy.stats import t\n",
    "alpha = 0.05\n",
    "df = sample_size - 1\n",
    "t_critical = t.ppf(1-alpha/2,df)\n",
    "print(f\"the t critical value is: {t_critical}\")\n",
    "if t_statistic > t_critical :\n",
    "    print(f\"{round(t_statistic,4)} > {round(t_critical,4)}, we reject the null hypothesis.i.e New teching methodhas a significant effect on students.\")\n",
    "else:\n",
    "    print(f\"{round(t_statistic)} < {round(t_critical,4)},we have no evidence to say a new teaching made a significant difference.\")"
   ]
  },
  {
   "cell_type": "markdown",
   "id": "3b5ef8f0-3200-43ee-96cd-b947d943270f",
   "metadata": {},
   "source": [
    "## Independent Two sample T-test\n",
    "#### The independent tow sample T-test is used to determine if there is a statistically significant difference between the means of two independent groups.\n",
    "#### It is especially used for comparing two differentpopulations or treatments."
   ]
  },
  {
   "cell_type": "markdown",
   "id": "5d4ff7b4-cab2-472a-be5f-69c8285c23e7",
   "metadata": {},
   "source": [
    "### **Example:**\n",
    "### Suppose you are studying the effectivenessof two different diets. You randomly assign 20 people to each diet and measure the weight loss after 3 months.\n",
    "#### **Data** : \n",
    "#### **Diet A(Group 1)** : Average weight loss = 6.5 kg, standard deviation = 1.5kg, samplesize(A) = 20\n",
    "#### **Diet B(Group 2)** : Average weight loss = 5.2 kg, standard deviation = 1.3kg, samplesize(B) = 20\n",
    "#### Null Hypothesis(H0) : There is no difference in weight loss between Diet A and Diet B.(i.e mean1 = mean2)\n",
    "#### Alternative Hypothesis(H1) : There is a difference in weight loss.(mean1 != mean2)"
   ]
  },
  {
   "cell_type": "code",
   "execution_count": 20,
   "id": "e3da8c7a-9aec-4534-a9f0-594ddf4c1c6f",
   "metadata": {},
   "outputs": [
    {
     "name": "stdout",
     "output_type": "stream",
     "text": [
      "T-statistic value is: 2.9289384088856636\n",
      "the t critical value is: 2.1447866879169273\n",
      "2.9289 > 2.1448, we reject the null hypothesis.i.e there is difference in results of diet A and diet B.\n"
     ]
    }
   ],
   "source": [
    "#calculate T-statistic\n",
    "mean1=6.5\n",
    "mean2=5.2\n",
    "std1=1.5\n",
    "std2=1.3\n",
    "sample_size1 = 20\n",
    "sample_size2 = 20\n",
    "var1 = std1*std1\n",
    "var2 = std2*std2\n",
    "t_statistic = (mean1 - mean2)/math.sqrt((var1/sample_size1) + (var2/sample_size2))\n",
    "dof = sample_size1 + sample_size2 -2\n",
    "print(f\"T-statistic value is: {t_statistic}\")\n",
    "#compare it with t critical value for decision making\n",
    "t_critical = t.ppf(1-alpha/2,df)\n",
    "print(f\"the t critical value is: {t_critical}\")\n",
    "alpha = 0.05\n",
    "if t_statistic > t_critical :\n",
    "    print(f\"{round(t_statistic,4)} > {round(t_critical,4)}, we reject the null hypothesis.i.e there is difference in results of diet A and diet B.\")\n",
    "else:\n",
    "    print(f\"{round(t_statistic)} < {round(t_critical,4)},we have no evidence to say diet methods are differnt from each other.\")"
   ]
  },
  {
   "cell_type": "markdown",
   "id": "e684cc7e-45db-4359-b423-915b722804d1",
   "metadata": {},
   "source": [
    "## **Paired T-test**\n",
    "#### Paired T-test is used to compare the same data before and after scenarios.\n",
    "#### Here,same subjects/arrtibutes are measured under two conditions.\n",
    "### **Example:**\n",
    "### Suppose you want to determine if a training program improves test scores you have test scores of 10 students before and after the training.\n",
    "### **Data:**\n",
    "#### Before : [70,65,80,72,68,74,73,77,66,71]\n",
    "#### After : [75,70,85,78,74,78,76,82,70,75]\n",
    "### **Hypothesis:**\n",
    "### 1. **Null Hypothesis(H0)** : There is no significant difference in test scores n=before and after training.(mean(before) = mean(after))\n",
    "### 2. **Alternative Hypothesis(H1)** : There is a significant differences between in test scores.(mean(before) != mean(after))"
   ]
  },
  {
   "cell_type": "code",
   "execution_count": 21,
   "id": "a6502686-c4f5-4110-a5cb-68389f294d8e",
   "metadata": {},
   "outputs": [
    {
     "name": "stdout",
     "output_type": "stream",
     "text": [
      "T-statistic value is: 15.666666666666668\n",
      "The t critical value is: 2.2621571628540993\n",
      "Degrees of freedom: 9\n",
      "15.6667 > 2.2622, we reject the null hypothesis. There is a significant difference in test scores before and after training.\n"
     ]
    }
   ],
   "source": [
    "from scipy.stats import t\n",
    "import numpy as np\n",
    "before = np.array([70, 65, 80, 72, 68, 74, 73, 77, 66, 71])\n",
    "after = np.array([75, 70, 85, 78, 74, 78, 76, 82, 70, 75])\n",
    "differences = after - before\n",
    "\n",
    "# Calculate the mean and standard deviation of differences\n",
    "mean_diff = np.mean(differences)\n",
    "std_diff = np.std(differences, ddof=1)  # ddof=1 for sample standard deviation\n",
    "n = len(differences)  # Number of paired observations\n",
    "alpha = 0.05\n",
    "t_statistic = mean_diff / (std_diff / np.sqrt(n))\n",
    "dof = n - 1\n",
    "t_critical = t.ppf(1 - alpha / 2, dof)\n",
    "print(f\"T-statistic value is: {t_statistic}\")\n",
    "print(f\"The t critical value is: {t_critical}\")\n",
    "print(f\"Degrees of freedom: {dof}\")\n",
    "if abs(t_statistic) > t_critical:\n",
    "    print(f\"{round(t_statistic, 4)} > {round(t_critical, 4)}, we reject the null hypothesis. There is a significant difference in test scores before and after training.\")\n",
    "else:\n",
    "    print(f\"{round(t_statistic, 4)} <= {round(t_critical, 4)}, we fail to reject the null hypothesis. There is no significant difference in test scores before and after training.\")\n"
   ]
  },
  {
   "cell_type": "markdown",
   "id": "70bbb65a-c8e9-4f5d-b8aa-04647e93fbc9",
   "metadata": {},
   "source": [
    "# ANOVA\n",
    "## Analysis of Variance\n",
    "## ANOVA is a statistical methos used to compare the means of three or more independent gropus to see if there is a statistically significant differnece in between them.\n",
    "## **Note** : In T-test,we generally compare two groups.But, ANOVA can handle multiple Groups/Attributes."
   ]
  },
  {
   "cell_type": "markdown",
   "id": "2150bd7f-c3fa-4339-b923-dbd6b2cf9311",
   "metadata": {},
   "source": [
    "### **Example:**  Suppose we have different groups.(DietA,DietB,DietC) with the following weight loss data.\n",
    "### Diet A = [5,7,6,8,7]\n",
    "### Diet B = [6,9,7,10,9]\n",
    "### Diet C = [4,5,6,5,6]\n",
    "## **Goal:** The goal is to determine if there is a significant difference in mean weight loss between the three diets."
   ]
  },
  {
   "cell_type": "markdown",
   "id": "8fa77fe3-0792-4d2a-8d85-a95c7e3ea9a3",
   "metadata": {},
   "source": [
    "## **Hypothesis:**\n",
    "## **Null Hypothesis (H0)**: All group means are equal (no significant difference).\n",
    "## **Alternative Hypothesis** (H1): At least one group mean is different."
   ]
  },
  {
   "cell_type": "code",
   "execution_count": 22,
   "id": "3da884f2-1b9d-4e48-9be6-6c2bf00cf307",
   "metadata": {},
   "outputs": [],
   "source": [
    "Diet_A = np.array([5,7,6,8,7])\n",
    "Diet_B = np.array([6,9,7,10,9])\n",
    "Diet_C = np.array([4,5,6,5,6])\n",
    "meanA = np.mean(Diet_A)\n",
    "meanB = np.mean(Diet_B)\n",
    "meanC = np.mean(Diet_C)\n"
   ]
  },
  {
   "cell_type": "code",
   "execution_count": 23,
   "id": "a8756504-d3b3-4a8a-bdef-deb0ba3c9007",
   "metadata": {},
   "outputs": [
    {
     "name": "stdout",
     "output_type": "stream",
     "text": [
      "SST (Total Sum of Squares): 41.33333333333333\n",
      "SSB (Sum of Squares Between): 22.533333333333317\n",
      "SSW (Sum of Squares Within): 18.80000000000001\n",
      "Degrees of Freedom (Between): 2\n",
      "Degrees of Freedom (Within): 12\n",
      "Mean Square Between (MSB): 11.266666666666659\n",
      "Mean Square Within (MSW): 1.5666666666666675\n",
      "F-statistic: 7.191489361702119\n",
      "F-critical (alpha = 0.05): 3.8852938346523946\n",
      "Since F-statistic (7.191489361702119) > F-critical (3.8852938346523946), we reject the null hypothesis.\n",
      "This suggests there is a significant difference between the means of the diets.\n"
     ]
    }
   ],
   "source": [
    "import numpy as np\n",
    "from scipy.stats import f\n",
    "Diet_A = np.array([5, 7, 6, 8, 7])\n",
    "Diet_B = np.array([6, 9, 7, 10, 9])\n",
    "Diet_C = np.array([4, 5, 6, 5, 6])\n",
    "overall_mean = np.mean(np.concatenate((Diet_A, Diet_B, Diet_C)))\n",
    "meanA = np.mean(Diet_A)\n",
    "meanB = np.mean(Diet_B)\n",
    "meanC = np.mean(Diet_C)\n",
    "SSB = len(Diet_A) * (meanA - overall_mean)**2 + len(Diet_B) * (meanB - overall_mean)**2 + len(Diet_C) * (meanC - overall_mean)**2\n",
    "all_data = np.concatenate((Diet_A, Diet_B, Diet_C))\n",
    "SST = np.sum((all_data - overall_mean)**2)\n",
    "SSW = SST - SSB\n",
    "df_between = 3 - 1  # Number of groups - 1\n",
    "df_within = len(all_data) - 3  # Total sample size - Number of groups\n",
    "MSB = SSB / df_between\n",
    "MSW = SSW / df_within\n",
    "F_statistic = MSB / MSW\n",
    "alpha = 0.05\n",
    "F_critical = f.ppf(1 - alpha, df_between, df_within)\n",
    "print(f\"SST (Total Sum of Squares): {SST}\")\n",
    "print(f\"SSB (Sum of Squares Between): {SSB}\")\n",
    "print(f\"SSW (Sum of Squares Within): {SSW}\")\n",
    "print(f\"Degrees of Freedom (Between): {df_between}\")\n",
    "print(f\"Degrees of Freedom (Within): {df_within}\")\n",
    "print(f\"Mean Square Between (MSB): {MSB}\")\n",
    "print(f\"Mean Square Within (MSW): {MSW}\")\n",
    "print(f\"F-statistic: {F_statistic}\")\n",
    "print(f\"F-critical (alpha = {alpha}): {F_critical}\")\n",
    "\n",
    "if F_statistic > F_critical:\n",
    "    print(f\"Since F-statistic ({F_statistic}) > F-critical ({F_critical}), we reject the null hypothesis.\")\n",
    "    print(\"This suggests there is a significant difference between the means of the diets.\")\n",
    "else:\n",
    "    print(f\"Since F-statistic ({F_statistic}) <= F-critical ({F_critical}), we fail to reject the null hypothesis.\")\n",
    "    print(\"This suggests there is no significant difference between the means of the diets.\")\n"
   ]
  },
  {
   "cell_type": "markdown",
   "id": "1054e2e6-df66-45de-abab-4a2e182ac80d",
   "metadata": {},
   "source": [
    "# A/B Testing"
   ]
  },
  {
   "cell_type": "markdown",
   "id": "418ccf4a-e6fd-4c46-ab37-e40be2d42dc5",
   "metadata": {},
   "source": [
    "### 1. A/B Testing is also known as split testing.\n",
    "### 2. A/B Testing is a method of testing and comparing Two versions of a Variable/Attribute.\n",
    "### 3. Variable/Attrribute can be a Web page,Advertisement,Product feature.\n",
    "### 4. Through A/B Testing, we can determine wich version performs better.\n",
    "### 5. A/B Testing is used in data-driven decision-making to optimize user experience and drive business results."
   ]
  },
  {
   "cell_type": "markdown",
   "id": "d3bf1f5e-381b-4c47-839d-0908eee5a2a7",
   "metadata": {},
   "source": [
    "## Q) How A/B Testing works?\n",
    "## **Example:** \"Changing the color of signup button to green will increase conversations.\n",
    "### **Split the audience:** Randomly divide your audience into Two groups.\n",
    "### **. Group A**(The control Group) sees the original version.\n",
    "### **. Group B**(The test Group) sees the modified version.\n",
    "### **measure the performance** : define a metric.(conversion rate,click through rate,time spent etc) to track the performance of each group.\n",
    "### **Analyze results** :After gathering sufficient data,compare the metrics of two groups to determine if there is Statistically significant difference.Based on the difference, select the version to use.\n",
    "### Lets work on conversion rate of the web site.\n",
    "### **Conversion rate:** A customer conversion rate is the percentage of potential customers who take a desired action on a website or landing page.\n",
    "### **Formula:** conversion rate = (conversions/total audience)*100"
   ]
  },
  {
   "cell_type": "code",
   "execution_count": 24,
   "id": "8a0c55ae-67c5-44d8-a30e-708f347cbd51",
   "metadata": {},
   "outputs": [
    {
     "name": "stdout",
     "output_type": "stream",
     "text": [
      "Conversion Rate of Group A (Control): 10.80%\n",
      "Conversion Rate of Group B (Test): 16.80%\n"
     ]
    }
   ],
   "source": [
    "import numpy as np\n",
    "from statsmodels.stats.proportion import proportions_ztest\n",
    "np.random.seed(0)  # For reproducibility\n",
    "n_users = 1000\n",
    "conversion_rate_a = 0.10  # 10% conversion\n",
    "conversions_a = np.random.binomial(1, conversion_rate_a, n_users)\n",
    "conversion_rate_b = 0.15  # 15% conversion\n",
    "conversions_b = np.random.binomial(1, conversion_rate_b, n_users)\n",
    "cr_a = conversions_a.mean()\n",
    "cr_b = conversions_b.mean()\n",
    "\n",
    "print(f\"Conversion Rate of Group A (Control): {cr_a:.2%}\")\n",
    "print(f\"Conversion Rate of Group B (Test): {cr_b:.2%}\")\n",
    "\n",
    "\n"
   ]
  },
  {
   "cell_type": "markdown",
   "id": "04314d81-38c6-4bf6-9beb-3a2072079882",
   "metadata": {},
   "source": [
    "#### We use np.random.binomial to simulate 1000 conversions with a probability of success (conversion_rate_a = 0.10). This function returns a list of 0s and 1s, where each 1 represents a conversion and each 0 represents no conversion.\n"
   ]
  },
  {
   "cell_type": "code",
   "execution_count": 25,
   "id": "0987dd0d-91bf-4a12-9d2f-d2c74856b368",
   "metadata": {},
   "outputs": [
    {
     "name": "stdout",
     "output_type": "stream",
     "text": [
      "Z-test statistic: -3.89\n",
      "P-value: 0.0001\n",
      "There is a statistically significant difference in conversion rates. The change is effective.\n"
     ]
    }
   ],
   "source": [
    "conversions_a_sum = conversions_a.sum()\n",
    "conversions_b_sum = conversions_b.sum()\n",
    "\n",
    "# Perform the Z-test\n",
    "stat, p_value = proportions_ztest([conversions_a_sum, conversions_b_sum], [n_users, n_users])\n",
    "\n",
    "print(f\"Z-test statistic: {stat:.2f}\")\n",
    "print(f\"P-value: {p_value:.4f}\")\n",
    "\n",
    "# Interpretation\n",
    "alpha = 0.05\n",
    "if p_value < alpha:\n",
    "    print(\"There is a statistically significant difference in conversion rates. The change is effective.\")\n",
    "else:\n",
    "    print(\"There is no statistically significant difference in conversion rates.\")"
   ]
  },
  {
   "cell_type": "markdown",
   "id": "a8ea5649-979e-4732-84cd-c89f2a9bf288",
   "metadata": {},
   "source": [
    "# Errors in Hypothesis esting\n",
    "### Eroors in Hypothesis testing are mistakes that can occur when we draw conclusions from statistical tests.\n",
    "### There are basically two types of errors that can occur. they are :\n",
    "### 1. Type I Error\n",
    "### 2. Type II Error"
   ]
  },
  {
   "cell_type": "markdown",
   "id": "02891664-ea07-46a7-97a2-c8289a4cfa32",
   "metadata": {},
   "source": [
    "## **Type I Error**\n",
    "### 1. Type I Error is generally when we fail to reject the null hypothesis when it is actually False.\n",
    "### 2. Thats also called as False Positive.\n",
    "### 3. Lets go through a example for better undersranding.\n",
    "### **Example:** Imagine a medical test for a Diabetes Disease. \n",
    "### Null hypothesis **(𝐻0)** : patient does not have the disease.\n",
    "### Alternativehypothesis **(𝐻1)** : patient does have the disease."
   ]
  },
  {
   "cell_type": "markdown",
   "id": "33593b9b-a8a2-4f54-86ea-62e28e650bd2",
   "metadata": {},
   "source": [
    "#### . If the test result shows that the patient has the Diatetes disease (we reject H0​ ) .\n",
    "#### . but, in reality, the patient is healthy (the null hypothesis is true).\n",
    "#### . we've made a Type 1 error.\n",
    "#### . In practice, the probability of making a Type 1 error is called the significance level, denoted by α, often set to 0.05. \n",
    "#### . This means we are willing to accept a 5% chance of incorrectly rejecting the null hypothesis.\n"
   ]
  },
  {
   "cell_type": "markdown",
   "id": "2ae28a06-f1b2-4366-aa7c-b25365fea744",
   "metadata": {},
   "source": [
    "## **Type II Error**\n",
    "### 1. A Type 2 error occurs when we fail to reject the null hypothesis when it is actually false. \n",
    "### 2. This is like a \"missed detection\" or \"False Negative.\"\n",
    "### **Example:**  Take the same above example.\n",
    "#### . If the test result shows that the patient is healthy (we fail to reject H0​ ) .\n",
    "#### . but, in reality, the patient has the disease (the null hypothesis is false).\n",
    "#### . we've made a Type 2 error.\n",
    "#### . The probability of making a Type 2 error is denoted by β"
   ]
  },
  {
   "cell_type": "markdown",
   "id": "b1e2ecfc-6528-4dfb-86a9-589b9ed471d8",
   "metadata": {},
   "source": [
    "## References : https://www.geeksforgeeks.org/understanding-hypothesis-testing/"
   ]
  },
  {
   "cell_type": "code",
   "execution_count": null,
   "id": "0ec66a87-4809-481d-a1d7-927a612797a3",
   "metadata": {},
   "outputs": [],
   "source": []
  }
 ],
 "metadata": {
  "kernelspec": {
   "display_name": "Python 3 (ipykernel)",
   "language": "python",
   "name": "python3"
  },
  "language_info": {
   "codemirror_mode": {
    "name": "ipython",
    "version": 3
   },
   "file_extension": ".py",
   "mimetype": "text/x-python",
   "name": "python",
   "nbconvert_exporter": "python",
   "pygments_lexer": "ipython3",
   "version": "3.9.18"
  }
 },
 "nbformat": 4,
 "nbformat_minor": 5
}
